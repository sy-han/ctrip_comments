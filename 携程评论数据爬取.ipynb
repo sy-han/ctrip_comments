{
 "cells": [
  {
   "cell_type": "code",
   "execution_count": null,
   "metadata": {},
   "outputs": [],
   "source": [
    "import requests as rq\n",
    "from bs4 import BeautifulSoup\n",
    "import pandas as pd\n",
    "import re  \n",
    "import json\n",
    "import pprint\n",
    "import xlwt\n",
    "import xlrd\n",
    "import openpyxl\n",
    "from openpyxl.cell.cell import ILLEGAL_CHARACTERS_RE\n",
    "workbook = openpyxl.Workbook()  #创建一个Excel文件,用于存储输出数据\n",
    "worksheet = workbook.create_sheet('text') #创建一个sheet\n",
    "row=1\n",
    "rbook = xlrd.open_workbook(r'C:\\Users\\dengx\\Desktop\\2-8856.xlsx')    #####数据文件名\n",
    "# sheets方法返回对象列表,[<xlrd.sheet.Sheet object at 0x103f147f0>]\n",
    "rbook.sheets()\n",
    "# xls默认有3个工作簿,Sheet1,Sheet2,Sheet3\n",
    "rsheet = rbook.sheet_by_index(0)  # 取第一个工作簿\n",
    "# 循环工作簿的所有行\n",
    "curl=\"https://m.ctrip.com/restapi/soa2/16593/json/getHouseCommentList\"\n",
    "for i in rsheet.get_rows():\n",
    "    print(i)\n",
    "    unitID = int(i[0].value)\n",
    "    if i[28].value!='none':\n",
    "        pageSize=int(i[28].value)\n",
    "    else:\n",
    "        pageSize=0\n",
    "    payloadData={\n",
    "        \"unitID\":unitID,\"pageIndex\":0,\"pageSize\":pageSize,\"tagParameter\":\"1,0\",\"head\":{\"cid\":\"09031029212120301011\",\"ctok\":\"\",\"cver\":\"1.0\",\"lang\":\"01\",\"sid\":\"8888\",\"syscode\":\"09\",\"auth\":\"\",\"xsid\":\"\",\"extension\":[{\"name\":\"page\",\"value\":\"10650016818\"},{\"name\":\"pagename\",\"value\":\"detail\"},{\"name\":\"terminaltype\",\"value\":\"100\"},{\"name\":\"apiv\",\"value\":\"1\"},{\"name\":\"traceid\",\"value\":\"93009641-eaf0-2754-9188-211c000594bf\"},{\"name\":\"channelid\",\"value\":\"211\"},{\"name\":\"inclient\",\"value\":\"true\"},{\"name\":\"allianceSid\",\"value\":\"135371\"},{\"name\":\"allianceId\",\"value\":\"4899\"},{\"name\":\"awakeUnion\",\"value\":\"{\\\"OUID\\\":\\\"\\\",\\\"AllianceID\\\":\\\"4899\\\",\\\"SID\\\":\\\"135371\\\",\\\"SourceID\\\":\\\"\\\"}\"},{\"name\":\"userAgent\",\"value\":\"Mozilla/5.0 (Windows NT 10.0; Win64; x64) AppleWebKit/537.36 (KHTML, like Gecko) Chrome/80.0.3987.162 Safari/537.36\"}]}\n",
    "    }\n",
    "    payloadHeader={\n",
    "        \"content-type\": \"application/json\",\n",
    "        \"origin\": \"https://inn.ctrip.com\"\n",
    "    }\n",
    "    print(unitID,pageSize)\n",
    "    cresponse=rq.post(curl,data=json.dumps(payloadData),headers=payloadHeader)\n",
    "    # 评论长度，对应pagesize\n",
    "    data=json.loads(cresponse.text)  #json就是字典数据\n",
    "    #pprint.pprint(data)\n",
    "    comments=data['data']['comments']\n",
    "    for comment in comments:\n",
    "        worksheet.cell(row,1).value = comment['unitID']       #房源ID\n",
    "        comment['commentDetail']= ILLEGAL_CHARACTERS_RE.sub(r'', comment['commentDetail'])\n",
    "        worksheet.cell(row,2).value = comment['commentDetail']  #评论内容\n",
    "        worksheet.cell(row,3).value = comment['createTime']     #评论创建时间\n",
    "        comment['hotelName']= ILLEGAL_CHARACTERS_RE.sub(r'', comment['hotelName'])\n",
    "        worksheet.cell(row,4).value = comment['hotelName']    #名称\n",
    "        worksheet.cell(row,5).value = comment['overall']        #总分\n",
    "        comment['replyDetail']= ILLEGAL_CHARACTERS_RE.sub(r'', comment['replyDetail'])\n",
    "        worksheet.cell(row,6).value = comment['replyDetail']    #回复内容\n",
    "        worksheet.cell(row,7).value = comment['replySubmitTime'] #回复时间\n",
    "        comment['scoreTitle']= ILLEGAL_CHARACTERS_RE.sub(r'', comment['scoreTitle'])\n",
    "        worksheet.cell(row,8).value = comment['scoreTitle'] \n",
    "        row=row+1\n",
    "workbook.save('C:\\\\Users\\\\dengx\\\\Desktop\\\\xiecheng2-8856.xlsx')         ###结果保存地址"
   ]
  }
 ],
 "metadata": {
  "kernelspec": {
   "display_name": "Python 3",
   "language": "python",
   "name": "python3"
  },
  "language_info": {
   "codemirror_mode": {
    "name": "ipython",
    "version": 3
   },
   "file_extension": ".py",
   "mimetype": "text/x-python",
   "name": "python",
   "nbconvert_exporter": "python",
   "pygments_lexer": "ipython3",
   "version": "3.7.3"
  }
 },
 "nbformat": 4,
 "nbformat_minor": 2
}
