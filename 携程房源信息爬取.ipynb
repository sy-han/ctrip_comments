{
 "cells": [
  {
   "cell_type": "code",
   "execution_count": 1,
   "metadata": {},
   "outputs": [],
   "source": [
    "import json\n",
    "import pandas as pd\n",
    "import requests as rq\n",
    "import os\n",
    "import time\n",
    "from bs4 import BeautifulSoup\n",
    "import re\n",
    "import numpy as np"
   ]
  },
  {
   "cell_type": "markdown",
   "metadata": {},
   "source": [
    "###### 房源列表"
   ]
  },
  {
   "cell_type": "code",
   "execution_count": 2,
   "metadata": {},
   "outputs": [],
   "source": [
    "out_path=r\"D:\\ctripdata\""
   ]
  },
  {
   "cell_type": "code",
   "execution_count": 3,
   "metadata": {},
   "outputs": [],
   "source": [
    "def out_put(href,title,corpus):\n",
    "    f=open(out_path+'\\\\'+title+r'.txt','w',encoding='utf-8')\n",
    "    f.write(href+'\\n')\n",
    "    f.write(corpus)\n",
    "    f.close()\n",
    "#     print('success!')"
   ]
  },
  {
   "cell_type": "code",
   "execution_count": 5,
   "metadata": {},
   "outputs": [],
   "source": [
    "# 民宿所在城市\n",
    "# city=r'chengdu10'\n",
    "city=r'nanjing9'\n",
    "# city=r'shanghai23'\n",
    "# citylist=['beijing48','shanghai23','chengdu10','guangzhou45','hangzhou7','nanjing9','qingdao8','chongqing22','xian17','suzhou11','wuhan55','xiamen33','taibei4005']\n",
    "citylist=['lijiang12','dali36','kunming31','zhengzhou167','haerbin64','jinan19','nanchang346','zhangjiajie342','huangshan6','sanya1','jiaxing110','qinhuangdao65','zhoushan20','shenzhen49','guilin32','luoyang168']\n",
    "prices=[\"0-200\",\"200-250\",\"250-300\",\"300-350\",\"350-400\",\"500-10000\"] # 200--250 修改"
   ]
  },
  {
   "cell_type": "code",
   "execution_count": 7,
   "metadata": {},
   "outputs": [],
   "source": [
    "urllist=[]\n",
    "# 构造爬取的urllist，网页限制最多爬60页\n",
    "for city in citylist:\n",
    "    for price in prices:\n",
    "        for p in range(60):\n",
    "            url=\"https://inn.ctrip.com/onlineinn/newlist/\"+city+r\"/?\"+\"m=\"+price+\"&d1=2020-09-24&d2=2020-09-25\"+\"&s=1&p=\"+str(p)\n",
    "            urllist.append(url)"
   ]
  },
  {
   "cell_type": "code",
   "execution_count": 8,
   "metadata": {},
   "outputs": [],
   "source": [
    "out_put('urllist','urllist2','\\n'.join(urllist))"
   ]
  },
  {
   "cell_type": "code",
   "execution_count": 24,
   "metadata": {},
   "outputs": [],
   "source": [
    "urllist=[]\n",
    "with open(out_path+'\\\\'+'urllist'+r'.txt','r',encoding='utf-8') as f:\n",
    "    for l in f.readlines():\n",
    "        urllist.append(l.strip())"
   ]
  },
  {
   "cell_type": "code",
   "execution_count": 29,
   "metadata": {},
   "outputs": [],
   "source": [
    "response=rq.get(url)\n",
    "texts=response.text\n",
    "soup=BeautifulSoup(texts,'lxml')\n",
    "\n",
    "# 找到带有unitid的所有房源信息\n",
    "# houses=soup.find_all('script')[9].text"
   ]
  },
  {
   "cell_type": "code",
   "execution_count": 70,
   "metadata": {},
   "outputs": [],
   "source": [
    "# 构造爬取的urllist，修改200-250\n",
    "urllist=[]\n",
    "for city in citylist:\n",
    "    price='200-250'\n",
    "    for p in range(60):\n",
    "        url=\"https://inn.ctrip.com/onlineinn/newlist/\"+city+r\"/?\"+\"m=\"+price+\"&d1=2020-09-24&d2=2020-09-25\"+\"&s=1&p=\"+str(p)\n",
    "        urllist.append(url)"
   ]
  },
  {
   "cell_type": "code",
   "execution_count": 18,
   "metadata": {},
   "outputs": [],
   "source": [
    "# 所有的房源信息列表\n",
    "# allitems=[]\n",
    "stop=0\n",
    "for i in range(stop,len(urllist)):\n",
    "# for i in range(len(urllist)):\n",
    "    url=urllist[i]\n",
    "    response=rq.get(url)\n",
    "    texts=response.text\n",
    "    if response.status_code==200:\n",
    "        out_put(url,str(url.split('/')[5])+'_'+str(url.split('=')[1].replace('&d1',''))+'_'+str(url.split('=')[-1]),texts)\n",
    "    else:\n",
    "        print(\"访问出错\")\n",
    "        break\n",
    "    soup=BeautifulSoup(texts,'lxml')\n",
    "\n",
    "    # 找到带有unitid的所有房源信息\n",
    "    # houses=soup.find_all('script')[9].text\n",
    "    if len(soup.find_all('script',text=re.compile(\"unitId\"))) > 0:\n",
    "        houses=soup.find_all('script',text=re.compile(\"unitId\"))[0].text\n",
    "#       用分号分隔：houses=re.sub('__NEXT_DATA__ = ','',houses.split(';')[2])\n",
    "        houses=houses.split('\"props\":')[1].split(',\"isSSR\":')[0]  # 分隔两次 获取props后的字典内容\n",
    "        hjson=json.loads(houses)\n",
    "\n",
    "#         items=hjson['props']['pageProps']['initialState']['items']\n",
    "        items=hjson['pageProps']['initialState']['items']\n",
    "        allitems.extend(items)\n",
    "    else:\n",
    "        continue\n",
    "    if i%500==0:\n",
    "        time.sleep(60)"
   ]
  },
  {
   "cell_type": "code",
   "execution_count": 85,
   "metadata": {},
   "outputs": [
    {
     "data": {
      "text/plain": [
       "dict_keys(['unitId', 'unitName', 'houseTypeName', 'pictureList', 'defaultPicture', 'pictureCount', 'logoUrl', 'geoCoordSysType', 'longitude', 'latitude', 'address', 'allowBooking', 'unitInfor', 'inTns', 'active', 'activityInfo', 'activityId', 'failType', 'productPrice', 'finalPrice', 'addPeopleAmount', 'cleaningAmount', 'priceMissingText', 'cityId', 'cityName', 'districtName', 'chineseLandlord', 'quickBooking', 'promotionPicUrl', 'smallPictureUrl', 'unitSummeries', 'adverUnit', 'advertUnitType', 'great', 'expressBooking', 'priceTags', 'rba', 'qualityCertification', 'checkInDate', 'checkOutDate', 'unitTags', 'distanceTip', 'showHouseVideo', 'showHouseVR', 'topListTag', 'urgencyTip', 'houseTags', 'finalPriceDisplayType', 'priceTipBadge', 'displayOrigionPrice', 'houseListTagImage', 'productId', 'landlordLevelUrl', 'productPriceConstract', 'promoText', 'rankScore', 'rankScore2', 'distance', 'extends4Ctrip', 'hotleId', 'recommendedGuests', 'bedCount', 'housingType', 'theHouseType', 'commentScore', 'checkInReceptionTime', 'checkOutLatestTime', 'preloadDetail', 'distanceDesc', 'rname'])"
      ]
     },
     "execution_count": 85,
     "metadata": {},
     "output_type": "execute_result"
    }
   ],
   "source": [
    "allitems[0].keys()"
   ]
  },
  {
   "cell_type": "code",
   "execution_count": 91,
   "metadata": {},
   "outputs": [],
   "source": [
    "# 需要获取的房源的属性\n",
    "ikeys=['unitId', 'unitName','houseTypeName','pictureCount','longitude', 'latitude','address','unitInfor', 'productPrice', 'finalPrice', 'cityId','cityName','districtName','productId','rankScore','rankScore2','extends4Ctrip','distance', 'hotleId', 'recommendedGuests', 'bedCount', 'housingType', 'theHouseType', 'commentScore','preloadDetail', 'distanceDesc', 'rname']"
   ]
  },
  {
   "cell_type": "code",
   "execution_count": 106,
   "metadata": {},
   "outputs": [],
   "source": [
    "# 将数据写入dataframe\n",
    "for item in allitems:\n",
    "    for key in ikeys:\n",
    "        if item[key]!=None:\n",
    "            ctrips.at[i,key]=str(item[key])\n",
    "        else:\n",
    "            ctrips.at[i,key]='none'\n",
    "#   房源的评分和评论数\n",
    "    for dicts in item['unitSummeries']:\n",
    "        summary=\"none\"\n",
    "        if dicts['textType']=='COMMENT':\n",
    "            summary=dicts['text']\n",
    "            break\n",
    "    if summary == \"none\":\n",
    "        ctrips.at[i,'score']='none'\n",
    "        ctrips.at[i,'numcomments']='none'\n",
    "    else:\n",
    "        summary=summary.split('/')\n",
    "        ctrips.at[i,'score']=summary[0].replace(\"分\",\"\")\n",
    "        ctrips.at[i,'numcomments']=summary[1].replace(\"点评\",\"\")\n",
    "    i+=1"
   ]
  },
  {
   "cell_type": "code",
   "execution_count": 108,
   "metadata": {},
   "outputs": [],
   "source": [
    "crtips_clean=ctrips.drop_duplicates()"
   ]
  },
  {
   "cell_type": "code",
   "execution_count": 218,
   "metadata": {},
   "outputs": [],
   "source": [
    "ctrips.to_csv(out_path+r'\\ctrips_13_6'+r'.csv',index=None,encoding='utf_8_sig')"
   ]
  },
  {
   "cell_type": "code",
   "execution_count": 111,
   "metadata": {},
   "outputs": [],
   "source": [
    "crtips_clean.to_csv(out_path+r'\\ctrips_13_6'+r'.csv',index=None,encoding='utf_8_sig')"
   ]
  }
 ],
 "metadata": {
  "kernelspec": {
   "display_name": "Python 3",
   "language": "python",
   "name": "python3"
  },
  "language_info": {
   "codemirror_mode": {
    "name": "ipython",
    "version": 3
   },
   "file_extension": ".py",
   "mimetype": "text/x-python",
   "name": "python",
   "nbconvert_exporter": "python",
   "pygments_lexer": "ipython3",
   "version": "3.7.3"
  }
 },
 "nbformat": 4,
 "nbformat_minor": 2
}
